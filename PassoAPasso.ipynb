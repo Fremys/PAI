{
 "cells": [
  {
   "cell_type": "code",
   "execution_count": 4,
   "metadata": {},
   "outputs": [],
   "source": [
    "import cv2\n",
    "import numpy as np\n",
    "\n",
    "def segment_mammary_region(image):\n",
    "    # Aplicar limiarização adaptativa para segmentar a região da mama\n",
    "    _, thresholded = cv2.threshold(image, 0, 255, cv2.THRESH_BINARY + cv2.THRESH_OTSU)\n",
    "\n",
    "    # Encontrar os contornos dos objetos na imagem binarizada\n",
    "    contours, _ = cv2.findContours(thresholded, cv2.RETR_EXTERNAL, cv2.CHAIN_APPROX_SIMPLE)\n",
    "\n",
    "    # Criar uma máscara em branco do tamanho da imagem\n",
    "    mask = np.zeros_like(image)\n",
    "\n",
    "    # Encontrar o contorno da mama (maior área)\n",
    "    largest_contour = max(contours, key=cv2.contourArea)\n",
    "\n",
    "    # Desenhar o contorno da mama na máscara\n",
    "    cv2.drawContours(mask, [largest_contour], -1, (255), thickness=cv2.FILLED)\n",
    "\n",
    "    # Criar uma imagem em branco do tamanho da imagem original\n",
    "    result_image = np.zeros_like(image)\n",
    "\n",
    "    # Preencher a região da mama com branco (255)\n",
    "    result_image[mask == 255] = 255\n",
    "\n",
    "    return result_image\n",
    "\n",
    "# Carregar a imagem em preto e branco\n",
    "image = cv2.imread('S:/Desktop/PAI-github/mamografias/DleftCC/d_left_cc (1).png', cv2.IMREAD_GRAYSCALE)\n",
    "\n",
    "# Segmentar a região da mama e remover a placa\n",
    "segmented_image = segment_mammary_region(image)\n",
    "resized_image = cv2.resize(segmented_image, (800, 600))  # Escolha as dimensões desejadas\n",
    "\n",
    "# Mostrar a imagem resultante\n",
    "cv2.imshow('Imagem resultante', resized_image)\n",
    "cv2.waitKey(0)\n",
    "cv2.destroyAllWindows()\n"
   ]
  }
 ],
 "metadata": {
  "kernelspec": {
   "display_name": "Python 3",
   "language": "python",
   "name": "python3"
  },
  "language_info": {
   "codemirror_mode": {
    "name": "ipython",
    "version": 3
   },
   "file_extension": ".py",
   "mimetype": "text/x-python",
   "name": "python",
   "nbconvert_exporter": "python",
   "pygments_lexer": "ipython3",
   "version": "3.10.0"
  },
  "orig_nbformat": 4
 },
 "nbformat": 4,
 "nbformat_minor": 2
}
